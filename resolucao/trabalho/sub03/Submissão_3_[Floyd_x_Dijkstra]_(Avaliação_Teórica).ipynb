{
 "cells": [
  {
   "cell_type": "markdown",
   "metadata": {
    "colab_type": "text",
    "id": "L8XFWE7sqhsB"
   },
   "source": [
    "# Projeto e Análise de Algoritmos\n",
    "## Avaliação Teórica de Algoritmos\n"
   ]
  },
  {
   "cell_type": "markdown",
   "metadata": {
    "colab_type": "text",
    "id": "yE6ZbbAVUVFp"
   },
   "source": [
    "Plot Matrix"
   ]
  },
  {
   "cell_type": "code",
   "execution_count": 1,
   "metadata": {
    "colab": {},
    "colab_type": "code",
    "id": "ZN_qgVEUUVw8"
   },
   "outputs": [],
   "source": [
    "import matplotlib.pyplot as plt\n",
    "import numpy as np\n",
    "\n",
    "def plot_matrix(graph):\n",
    "    data = graph\n",
    "    dim = len(data)\n",
    "    fig, ax = plt.subplots(figsize=(dim, dim))\n",
    "    \n",
    "    ax.matshow(data, cmap='binary_r',  interpolation='nearest')\n",
    "    \n",
    "    for (i, j), z in np.ndenumerate(data):\n",
    "        ax.text(j, i, '{:0.1f}'.format(z), ha='center', va='center',\n",
    "                bbox=dict(boxstyle='round', facecolor='white', edgecolor='0.3'))\n",
    "    plt.show()"
   ]
  },
  {
   "cell_type": "markdown",
   "metadata": {
    "colab_type": "text",
    "id": "OSsGNxJJTtvQ"
   },
   "source": [
    "### Floyd Warshall Algorithm"
   ]
  },
  {
   "cell_type": "code",
   "execution_count": 2,
   "metadata": {
    "colab": {},
    "colab_type": "code",
    "id": "s5cTFoMHTtIU"
   },
   "outputs": [],
   "source": [
    "def floyd_warshall(graph):\n",
    "    dist = graph\n",
    "    # Number of vertices in the graph \n",
    "    V = len(graph)\n",
    "\n",
    "    for k in range(V): \n",
    "        for i in range(V): \n",
    "            for j in range(V):\n",
    "                dist[i][j] = min(dist[i][j], dist[i][k] + dist[k][j])\n",
    "    return dist"
   ]
  },
  {
   "cell_type": "markdown",
   "metadata": {
    "colab_type": "text",
    "id": "wYAaEQqgTwbf"
   },
   "source": [
    "### Dijkstra Algorithm"
   ]
  },
  {
   "cell_type": "code",
   "execution_count": 3,
   "metadata": {
    "colab": {},
    "colab_type": "code",
    "id": "EKsdeNf4mVKU"
   },
   "outputs": [],
   "source": [
    "def min_distance(dist, queue):\n",
    "    min_dist = float('inf')\n",
    "    min_index = -1\n",
    "    \n",
    "    # from the dist array,pick one which \n",
    "    # has min value and is till in queue \n",
    "    for i in range(len(dist)): \n",
    "        if dist[i] < min_dist and i in queue: \n",
    "            min_dist = dist[i] \n",
    "            min_index = i \n",
    "            \n",
    "    return min_index "
   ]
  },
  {
   "cell_type": "code",
   "execution_count": 4,
   "metadata": {
    "colab": {},
    "colab_type": "code",
    "id": "TYHlhsy8mdjt"
   },
   "outputs": [],
   "source": [
    "def dijkstra(source, graph): \n",
    "    V = len(graph)\n",
    "    dist = [float('inf')] * V\n",
    "    dist[source] = 0\n",
    "    \n",
    "    short_path = [-1] * V\n",
    "    \n",
    "    queue = [] \n",
    "    for i in range(V): \n",
    "        queue.append(i)\n",
    "            \n",
    "    #Find shortest path for all vertices \n",
    "    while queue: \n",
    "\n",
    "        # Pick the minimum dist vertex  \n",
    "        # from the set of vertices \n",
    "        # still in queue \n",
    "        u = min_distance(dist,queue)  \n",
    "        \n",
    "        # remove min element\n",
    "        try:\n",
    "            queue.remove(u)\n",
    "        except:\n",
    "            break\n",
    "\n",
    "        # Update dist value and parent  \n",
    "        # index of the adjacent vertices of \n",
    "        # the picked vertex. Consider only  \n",
    "        # those vertices which are still in \n",
    "        # queue \n",
    "        for i in range(V): \n",
    "            '''Update dist[i] only if it is in queue, there is \n",
    "            an edge from u to i, and total weight of path from \n",
    "            src to i through u is smaller than current value of \n",
    "            dist[i]'''\n",
    "            if graph[u][i] and i in queue: \n",
    "                if dist[u] + graph[u][i] < dist[i]: \n",
    "                    dist[i] = dist[u] + graph[u][i] \n",
    "                    short_path[i] = u                        \n",
    "    return dist"
   ]
  },
  {
   "cell_type": "code",
   "execution_count": 5,
   "metadata": {
    "colab": {},
    "colab_type": "code",
    "id": "adcqd5G_q6W4"
   },
   "outputs": [],
   "source": [
    "def n_djikstra(graph):\n",
    "    dist_graph = list()\n",
    "    for i in range(len(graph)):\n",
    "        dist_graph.append(dijkstra(i, graph))\n",
    "\n",
    "    return dist_graph"
   ]
  },
  {
   "cell_type": "code",
   "execution_count": 6,
   "metadata": {},
   "outputs": [],
   "source": [
    "from collections import defaultdict\n",
    "from heapq import *\n",
    "\n",
    "def heap_dijkstra(edges, source, t):\n",
    "    graph = defaultdict(list)\n",
    "    for l,r,c in edges:\n",
    "        graph[l].append((c,r))\n",
    "\n",
    "    queue, visitados, mins = [(0, source, ())], set(), {source: 0}\n",
    "    \n",
    "    while queue:\n",
    "        (cost,v1,path) = heappop(queue)\n",
    "        if v1 not in visitados:\n",
    "            visitados.add(v1)\n",
    "            path = (v1, path)\n",
    "            if v1 == t:\n",
    "                return (cost, path)\n",
    "\n",
    "            for c, v2 in graph.get(v1, ()):\n",
    "                if v2 in visitados: continue\n",
    "                prev = mins.get(v2, None)\n",
    "                next = cost + c\n",
    "                if prev is None or next < prev:\n",
    "                    mins[v2] = next\n",
    "                    heappush(queue, (next, v2, path))\n",
    "\n",
    "    return float('inf')"
   ]
  },
  {
   "cell_type": "code",
   "execution_count": 7,
   "metadata": {},
   "outputs": [],
   "source": [
    "def n_heap_djikstra(graph, edges, edges_list):\n",
    "    g = graph\n",
    "\n",
    "    for e in edges_list:\n",
    "        u, v = e[0], e[1]\n",
    "        min_dist = heap_dijkstra(edges, u, v)\n",
    "        if(min_dist == 'inf'):\n",
    "            g[u][v] = float('inf')\n",
    "        else:\n",
    "            g[u][v] = min_dist[0]\n",
    "            \n",
    "    return g"
   ]
  },
  {
   "cell_type": "markdown",
   "metadata": {
    "colab_type": "text",
    "id": "Hu44zfykq6o2"
   },
   "source": [
    "### Exemplo de execução"
   ]
  },
  {
   "cell_type": "code",
   "execution_count": 11,
   "metadata": {
    "colab": {},
    "colab_type": "code",
    "id": "KoWZTMYBm3FW"
   },
   "outputs": [],
   "source": [
    "import itertools as it\n",
    "\n",
    "INF = float('inf')\n",
    "\n",
    "graph = [\n",
    "    [0,   5,    INF,  10], \n",
    "    [INF, 0,    3,    INF], \n",
    "    [INF, INF,  0,    1], \n",
    "    [INF, INF,  INF,  0] \n",
    "] \n",
    "\n",
    "vertices = [v for v in range(len(graph))]\n",
    "edges_list = list(it.combinations(vertices, 2))\n",
    "\n",
    "edges = list()\n",
    "for e in edges_list:\n",
    "    u, v = e[0], e[1]\n",
    "    edges.append([e[0], e[1], graph[u][v]])\n",
    "        \n",
    "floyd_warshall_graph = floyd_warshall(graph)\n",
    "n_djikstra_graph = n_djikstra(graph)\n",
    "n_heap_djikstra_graph = n_heap_djikstra(graph, edges, edges_list)"
   ]
  },
  {
   "cell_type": "code",
   "execution_count": 12,
   "metadata": {
    "colab": {
     "base_uri": "https://localhost:8080/",
     "height": 34
    },
    "colab_type": "code",
    "id": "8c1UtQ9JwMku",
    "outputId": "4c29ab11-c0f6-4669-b1ed-1d32815abbc6"
   },
   "outputs": [
    {
     "data": {
      "text/plain": [
       "True"
      ]
     },
     "execution_count": 12,
     "metadata": {},
     "output_type": "execute_result"
    }
   ],
   "source": [
    "floyd_warshall_graph == n_djikstra_graph == n_heap_djikstra_graph"
   ]
  },
  {
   "cell_type": "code",
   "execution_count": null,
   "metadata": {},
   "outputs": [],
   "source": []
  },
  {
   "cell_type": "markdown",
   "metadata": {
    "colab_type": "text",
    "id": "gYYywjURyKrg"
   },
   "source": [
    "## Análise"
   ]
  },
  {
   "cell_type": "markdown",
   "metadata": {
    "colab_type": "text",
    "id": "9NBJVrSKyzMY"
   },
   "source": [
    "### Execução"
   ]
  },
  {
   "cell_type": "code",
   "execution_count": null,
   "metadata": {
    "colab": {
     "base_uri": "https://localhost:8080/",
     "height": 272
    },
    "colab_type": "code",
    "id": "q0uhksy6yMv9",
    "outputId": "b0a1002f-5ce0-4daa-bd93-f93bbc645604"
   },
   "outputs": [
    {
     "name": "stdout",
     "output_type": "stream",
     "text": [
      "[5, 0.005738973617553711, 0.0005354881286621094]\n",
      "[10, 0.014850616455078125, 0.008111238479614258]\n",
      "[15, 0.03851461410522461, 0.025834321975708008]\n",
      "[20, 0.11403346061706543, 0.06477999687194824]\n",
      "[25, 0.18230700492858887, 0.15797972679138184]\n",
      "[30, 0.3282310962677002, 0.29348182678222656]\n",
      "[35, 0.48673129081726074, 0.6481366157531738]\n",
      "[40, 1.0192885398864746, 1.194965124130249]\n",
      "[45, 1.4620246887207031, 1.4599254131317139]\n",
      "[50, 1.5205903053283691, 2.5079686641693115]\n",
      "[55, 2.460294723510742, 2.2199900150299072]\n",
      "[60, 2.0620203018188477, 5.231433868408203]\n",
      "[65, 2.263664484024048, 5.398761510848999]\n",
      "[70, 3.657304525375366, 8.639175415039062]\n"
     ]
    }
   ],
   "source": [
    "import random\n",
    "import time\n",
    "from datetime import datetime\n",
    "import numpy as np\n",
    "import math\n",
    "\n",
    "# estrutura dos dados\n",
    "size_time_data = list()\n",
    "cols = ['size', 'floyd_time', 'djikstra_time']\n",
    "\n",
    "# semente aleatoria\n",
    "np.random.seed(42)\n",
    "\n",
    "# menor valor numero de vertices\n",
    "N = 1\n",
    "# maior valor numero de vertices\n",
    "M = 100\n",
    "\n",
    "for i in range(N, M):\n",
    "    \n",
    "    # gera um grafo de n vertices\n",
    "    graph = np.random.randint(i*5, size=(i*5, i*5))\n",
    "\n",
    "    # atribui a diagonal, valores iguais a 0\n",
    "    np.fill_diagonal(graph, 0)\n",
    "\n",
    "    # floyd\n",
    "    start_floyd = time.time()\n",
    "    floyd_warshall(graph)\n",
    "    end_floyd = time.time()\n",
    "\n",
    "    delta_time_floyd = end_floyd - start_floyd\n",
    "\n",
    "    # djikstra\n",
    "    vertices = [v for v in range(len(graph))]\n",
    "    edges_list = list(it.combinations(vertices, 2))\n",
    "\n",
    "    edges = list()\n",
    "    for e in edges_list:\n",
    "        u, v = e[0], e[1]\n",
    "        edges.append([e[0], e[1], graph[u][v]])\n",
    "        \n",
    "    start_djikstra = time.time()\n",
    "    #n_djikstra(graph)\n",
    "    n_heap_djikstra(graph, edges, edges_list)\n",
    "    end_djikstra = time.time()\n",
    "\n",
    "    delta_time_djikstra = end_djikstra - start_djikstra\n",
    "\n",
    "    size_time_data.append([i*5, delta_time_floyd, delta_time_djikstra])\n",
    "\n",
    "    print(str([i*5, delta_time_floyd, delta_time_djikstra]))"
   ]
  },
  {
   "cell_type": "code",
   "execution_count": 39,
   "metadata": {
    "colab": {},
    "colab_type": "code",
    "id": "JLhUq-4e9YJt"
   },
   "outputs": [],
   "source": [
    "df_fl_dj = pd.DataFrame(size_time_data, columns=cols)\n",
    "\n",
    "df_fl_dj.to_csv('time_execution_['+str(N)+' - '+str(M)+'].csv')\n",
    "df_fl_dj.to_html('time_execution_['+str(N)+' - '+str(M)+'].html')"
   ]
  },
  {
   "cell_type": "code",
   "execution_count": null,
   "metadata": {},
   "outputs": [],
   "source": []
  },
  {
   "cell_type": "markdown",
   "metadata": {
    "colab_type": "text",
    "id": "7NzhEND4zqKj"
   },
   "source": [
    "### Exibição dos dados"
   ]
  },
  {
   "cell_type": "code",
   "execution_count": 40,
   "metadata": {
    "colab": {},
    "colab_type": "code",
    "id": "TVbYR-BW5X3T"
   },
   "outputs": [],
   "source": [
    "import pandas as pd"
   ]
  },
  {
   "cell_type": "code",
   "execution_count": 46,
   "metadata": {
    "colab": {},
    "colab_type": "code",
    "id": "gZQKycQd0Vh8"
   },
   "outputs": [],
   "source": [
    "df = pd.read_csv('time_execution_[1 - 1000].csv', index_col=0)"
   ]
  },
  {
   "cell_type": "code",
   "execution_count": 48,
   "metadata": {},
   "outputs": [
    {
     "data": {
      "text/html": [
       "<div>\n",
       "<style scoped>\n",
       "    .dataframe tbody tr th:only-of-type {\n",
       "        vertical-align: middle;\n",
       "    }\n",
       "\n",
       "    .dataframe tbody tr th {\n",
       "        vertical-align: top;\n",
       "    }\n",
       "\n",
       "    .dataframe thead th {\n",
       "        text-align: right;\n",
       "    }\n",
       "</style>\n",
       "<table border=\"1\" class=\"dataframe\">\n",
       "  <thead>\n",
       "    <tr style=\"text-align: right;\">\n",
       "      <th></th>\n",
       "      <th>size</th>\n",
       "      <th>floyd_time</th>\n",
       "      <th>djikstra_time</th>\n",
       "    </tr>\n",
       "  </thead>\n",
       "  <tbody>\n",
       "    <tr>\n",
       "      <th>2</th>\n",
       "      <td>15</td>\n",
       "      <td>0.005324</td>\n",
       "      <td>0.005821</td>\n",
       "    </tr>\n",
       "    <tr>\n",
       "      <th>15</th>\n",
       "      <td>80</td>\n",
       "      <td>0.759325</td>\n",
       "      <td>0.501895</td>\n",
       "    </tr>\n",
       "    <tr>\n",
       "      <th>69</th>\n",
       "      <td>350</td>\n",
       "      <td>62.287240</td>\n",
       "      <td>37.128076</td>\n",
       "    </tr>\n",
       "    <tr>\n",
       "      <th>81</th>\n",
       "      <td>410</td>\n",
       "      <td>101.761844</td>\n",
       "      <td>61.924997</td>\n",
       "    </tr>\n",
       "    <tr>\n",
       "      <th>108</th>\n",
       "      <td>540</td>\n",
       "      <td>220.564248</td>\n",
       "      <td>140.983247</td>\n",
       "    </tr>\n",
       "    <tr>\n",
       "      <th>139</th>\n",
       "      <td>695</td>\n",
       "      <td>473.683687</td>\n",
       "      <td>303.121008</td>\n",
       "    </tr>\n",
       "    <tr>\n",
       "      <th>160</th>\n",
       "      <td>800</td>\n",
       "      <td>729.649359</td>\n",
       "      <td>443.086357</td>\n",
       "    </tr>\n",
       "  </tbody>\n",
       "</table>\n",
       "</div>"
      ],
      "text/plain": [
       "     size  floyd_time  djikstra_time\n",
       "2      15    0.005324       0.005821\n",
       "15     80    0.759325       0.501895\n",
       "69    350   62.287240      37.128076\n",
       "81    410  101.761844      61.924997\n",
       "108   540  220.564248     140.983247\n",
       "139   695  473.683687     303.121008\n",
       "160   800  729.649359     443.086357"
      ]
     },
     "execution_count": 48,
     "metadata": {},
     "output_type": "execute_result"
    }
   ],
   "source": [
    "df.sample(7).sort_values(by='size')"
   ]
  },
  {
   "cell_type": "code",
   "execution_count": 49,
   "metadata": {
    "colab": {},
    "colab_type": "code",
    "id": "c2ORXLAf0mjM"
   },
   "outputs": [],
   "source": [
    "df_fl_dj = df"
   ]
  },
  {
   "cell_type": "code",
   "execution_count": 50,
   "metadata": {
    "colab": {
     "base_uri": "https://localhost:8080/",
     "height": 475
    },
    "colab_type": "code",
    "id": "RrF42e0XzSoL",
    "outputId": "93c47218-ab95-47a9-8134-dcc23f69a199"
   },
   "outputs": [
    {
     "data": {
      "image/png": "[encoded data removed]",
      "text/plain": [
       "<Figure size 1152x504 with 1 Axes>"
      ]
     },
     "metadata": {
      "needs_background": "light"
     },
     "output_type": "display_data"
    }
   ],
   "source": [
    "import matplotlib.pyplot as plt\n",
    "from math import log\n",
    "import numpy as np\n",
    "\n",
    "plt.figure(figsize=(16,7))\n",
    "\n",
    "plt.title('Comparação de tempo de execução dos algorimos')\n",
    "\n",
    "plt.plot(df_fl_dj['size'], df_fl_dj['floyd_time'], \n",
    "        color='green', linestyle='solid')\n",
    "\n",
    "plt.plot(df_fl_dj['size'], df_fl_dj['djikstra_time'], \n",
    "        color='blue', linestyle='solid')\n",
    "\n",
    "\n",
    "plt.xlabel('Tamanho (número de vértices)')\n",
    "plt.ylabel('Tempo (segundos)')\n",
    "\n",
    "plt.legend(['Floyd Warshall', 'n-Djikstra'])\n",
    "\n",
    "plt.savefig('fld-dkt-t(n)-1-1000.png')\n",
    "plt.show()"
   ]
  },
  {
   "cell_type": "markdown",
   "metadata": {
    "colab_type": "text",
    "id": "gIjn7WriFtG6"
   },
   "source": []
  },
  {
   "cell_type": "code",
   "execution_count": 51,
   "metadata": {
    "colab": {
     "base_uri": "https://localhost:8080/",
     "height": 475
    },
    "colab_type": "code",
    "id": "r8SOGjYVFgsc",
    "outputId": "b1af3901-4ec1-437e-d154-a7f7c07c4e73"
   },
   "outputs": [
    {
     "data": {
      "image/png": "[encoded data removed]",
      "text/plain": [
       "<Figure size 1152x504 with 2 Axes>"
      ]
     },
     "metadata": {
      "needs_background": "light"
     },
     "output_type": "display_data"
    }
   ],
   "source": [
    "from sklearn.linear_model import LinearRegression\n",
    "import matplotlib.pyplot as plt\n",
    "from math import log\n",
    "import numpy as np\n",
    "import statsmodels.api as sm\n",
    "\n",
    "\n",
    "lx = np.log2(df_fl_dj['size'])\n",
    "\n",
    "lyd = np.log2(df_fl_dj['djikstra_time'])\n",
    "lyf = np.log2(df_fl_dj['floyd_time'])\n",
    "\n",
    "f_model = LinearRegression().fit(lx.values.reshape(-1,1), lyf.values)\n",
    "d_model = LinearRegression().fit(lx.values.reshape(-1,1), lyd.values)\n",
    "\n",
    "# Intervalo de confiabilidade\n",
    "lx_stat = sm.add_constant(lx)\n",
    "res_d = sm.OLS(lyd, lx_stat).fit()\n",
    "res_f = sm.OLS(lyf, lx_stat).fit()\n",
    "\n",
    "plt.figure(figsize=(16,7))\n",
    "\n",
    "plt.subplot(121)\n",
    "\n",
    "plt.title('Análise da inclinação da Reta (Floyd Warshall)')\n",
    "plt.plot(lx, lyf, color='green', linestyle='solid')\n",
    "plt.plot(lx, f_model.intercept_ + f_model.coef_ * lx, color='red', linestyle='dotted')\n",
    "\n",
    "plt.xlabel('$log(n)$')\n",
    "plt.ylabel('$log(T(n))$')\n",
    "\n",
    "plt.legend(['Floyd Warshall', 'Reta de melhor ajuste'])\n",
    "plt.text(8,-10, 'Intervalo (95%)\\n['  + str('{:.4f}'.format(res_f.conf_int(0.05)[0][1])) + ' - ' \n",
    "                                + str('{:.4f}'.format(res_f.conf_int(0.05)[1][1])) + ']', \n",
    "         bbox=dict(facecolor='grey', alpha=0.1))\n",
    "\n",
    "###\n",
    "\n",
    "plt.subplot(122)\n",
    "\n",
    "plt.title('Análise da inclinação da Reta (n-Djikstra)')\n",
    "plt.plot(lx, lyd, color='blue', linestyle='solid')\n",
    "plt.plot(lx, d_model.intercept_ + d_model.coef_ * lx, color='red', linestyle='dotted')\n",
    "\n",
    "plt.xlabel('$log(n)$')\n",
    "plt.ylabel('$log(T(n))$')\n",
    "\n",
    "plt.legend(['n-Djikstra', 'Reta de melhor ajuste'])\n",
    "plt.text(8,-10, 'Intervalo (95%)\\n['  + str('{:.4f}'.format(res_d.conf_int(0.05)[0][1])) + ' - ' \n",
    "                                + str('{:.4f}'.format(res_d.conf_int(0.05)[1][1])) + ']', \n",
    "         bbox=dict(facecolor='grey', alpha=0.1))\n",
    "\n",
    "\n",
    "plt.savefig('fld-dkt-slope-1-1000.png')\n",
    "plt.show()"
   ]
  },
  {
   "cell_type": "code",
   "execution_count": null,
   "metadata": {},
   "outputs": [],
   "source": []
  }
 ],
 "metadata": {
  "colab": {
   "collapsed_sections": [],
   "name": "Submissão 2 [Floyd x Dijkstra] (Avaliação Teórica)",
   "provenance": []
  },
  "kernelspec": {
   "display_name": "Python 3",
   "language": "python",
   "name": "python3"
  },
  "language_info": {
   "codemirror_mode": {
    "name": "ipython",
    "version": 3
   },
   "file_extension": ".py",
   "mimetype": "text/x-python",
   "name": "python",
   "nbconvert_exporter": "python",
   "pygments_lexer": "ipython3",
   "version": "3.8.3"
  }
 },
 "nbformat": 4,
 "nbformat_minor": 1
}
