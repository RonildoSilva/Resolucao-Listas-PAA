{
 "cells": [
  {
   "cell_type": "markdown",
   "metadata": {
    "colab_type": "text",
    "id": "L8XFWE7sqhsB"
   },
   "source": [
    "# Projeto e Análise de Algoritmos\n",
    "## Avaliação Teórica de Algoritmos\n"
   ]
  },
  {
   "cell_type": "markdown",
   "metadata": {
    "colab_type": "text",
    "id": "yE6ZbbAVUVFp"
   },
   "source": [
    "Plot Matrix"
   ]
  },
  {
   "cell_type": "code",
   "execution_count": 36,
   "metadata": {
    "colab": {},
    "colab_type": "code",
    "id": "ZN_qgVEUUVw8"
   },
   "outputs": [],
   "source": [
    "import matplotlib.pyplot as plt\n",
    "import numpy as np\n",
    "\n",
    "def plot_matrix(graph):\n",
    "    data = graph\n",
    "    dim = len(data)\n",
    "    fig, ax = plt.subplots(figsize=(dim, dim))\n",
    "    \n",
    "    ax.matshow(data, cmap='binary_r',  interpolation='nearest')\n",
    "    \n",
    "    for (i, j), z in np.ndenumerate(data):\n",
    "        ax.text(j, i, '{:0.1f}'.format(z), ha='center', va='center',\n",
    "                bbox=dict(boxstyle='round', facecolor='white', edgecolor='0.3'))\n",
    "    plt.show()"
   ]
  },
  {
   "cell_type": "markdown",
   "metadata": {
    "colab_type": "text",
    "id": "OSsGNxJJTtvQ"
   },
   "source": [
    "### Floyd Warshall Algorithm"
   ]
  },
  {
   "cell_type": "code",
   "execution_count": 44,
   "metadata": {
    "colab": {},
    "colab_type": "code",
    "id": "s5cTFoMHTtIU"
   },
   "outputs": [],
   "source": [
    "def floyd_warshall(graph):\n",
    "    dist = graph\n",
    "    # Number of vertices in the graph \n",
    "    V = len(graph)\n",
    "\n",
    "    for k in range(V): \n",
    "        for i in range(V): \n",
    "            for j in range(V):\n",
    "                dist[i][j] = min(dist[i][j], dist[i][k] + dist[k][j])\n",
    "    return dist"
   ]
  },
  {
   "cell_type": "markdown",
   "metadata": {
    "colab_type": "text",
    "id": "wYAaEQqgTwbf"
   },
   "source": [
    "### Dijkstra Algorithm"
   ]
  },
  {
   "cell_type": "code",
   "execution_count": 53,
   "metadata": {
    "colab": {},
    "colab_type": "code",
    "id": "EKsdeNf4mVKU"
   },
   "outputs": [],
   "source": [
    "def min_distance(dist, sptSet, V):\n",
    "    min_dist = float('inf')\n",
    "    min_index = 0 \n",
    "    \n",
    "    for v in range(V):\n",
    "        if (dist[v] < min_dist and sptSet[v] == False):\n",
    "            min_dist = dist[v]\n",
    "            min_index = v\n",
    "            \n",
    "    return min_index "
   ]
  },
  {
   "cell_type": "code",
   "execution_count": 54,
   "metadata": {
    "colab": {},
    "colab_type": "code",
    "id": "TYHlhsy8mdjt"
   },
   "outputs": [],
   "source": [
    "def dijkstra(src, graph): \n",
    "    V = len(graph)\n",
    "    dist = [float('inf')] * V\n",
    "    dist[src] = 0\n",
    "    sptSet = [False] * V\n",
    "    \n",
    "    for cout in range(V):\n",
    "        u = min_distance(dist, sptSet, V)\n",
    "        sptSet[u] = True\n",
    "        for v in range(V):\n",
    "            if graph[u][v] > 0 and sptSet[v] == False and dist[v] > dist[u] + graph[u][v]:\n",
    "                dist[v] = dist[u] + graph[u][v]\n",
    "    return dist"
   ]
  },
  {
   "cell_type": "code",
   "execution_count": 55,
   "metadata": {
    "colab": {},
    "colab_type": "code",
    "id": "adcqd5G_q6W4"
   },
   "outputs": [],
   "source": [
    "def n_djikstra(graph):\n",
    "    dist_graph = list()\n",
    "    for i in range(len(graph)):\n",
    "        dist_graph.append(dijkstra(i, graph))\n",
    "\n",
    "    return dist_graph"
   ]
  },
  {
   "cell_type": "markdown",
   "metadata": {
    "colab_type": "text",
    "id": "Hu44zfykq6o2"
   },
   "source": [
    "### Exemplo de execução"
   ]
  },
  {
   "cell_type": "code",
   "execution_count": 56,
   "metadata": {
    "colab": {},
    "colab_type": "code",
    "id": "KoWZTMYBm3FW"
   },
   "outputs": [],
   "source": [
    "INF = float('inf')\n",
    "\n",
    "graph = [\n",
    "    [0,   5,    INF,  10], \n",
    "    [INF, 0,    3,    INF], \n",
    "    [INF, INF,  0,    1], \n",
    "    [INF, INF,  INF,  0] \n",
    "] \n",
    "\n",
    "# gera um grafo de n vertices\n",
    "#graph = np.random.randint(100, size=(5,5))\n",
    "# atribui a diagonal, valores iguais a 0\n",
    "#np.fill_diagonal(graph, 0)\n",
    "\n",
    "floyd_warshall_graph = floyd_warshall(graph)\n",
    "n_djikstra_graph = n_djikstra(graph)"
   ]
  },
  {
   "cell_type": "code",
   "execution_count": 57,
   "metadata": {
    "colab": {
     "base_uri": "https://localhost:8080/",
     "height": 34
    },
    "colab_type": "code",
    "id": "8c1UtQ9JwMku",
    "outputId": "4c29ab11-c0f6-4669-b1ed-1d32815abbc6"
   },
   "outputs": [
    {
     "data": {
      "text/plain": [
       "True"
      ]
     },
     "execution_count": 57,
     "metadata": {},
     "output_type": "execute_result"
    }
   ],
   "source": [
    "floyd_warshall_graph == n_djikstra_graph"
   ]
  },
  {
   "cell_type": "code",
   "execution_count": 58,
   "metadata": {
    "colab": {
     "base_uri": "https://localhost:8080/",
     "height": 269
    },
    "colab_type": "code",
    "id": "GClP3Hf7kUHG",
    "outputId": "cd190445-7b82-4305-8114-3ef18918695f"
   },
   "outputs": [
    {
     "data": {
      "image/png": "[encoded data removed]",
      "text/plain": [
       "<Figure size 288x288 with 1 Axes>"
      ]
     },
     "metadata": {
      "needs_background": "light"
     },
     "output_type": "display_data"
    }
   ],
   "source": [
    "plot_matrix(floyd_warshall_graph)"
   ]
  },
  {
   "cell_type": "code",
   "execution_count": 59,
   "metadata": {
    "colab": {
     "base_uri": "https://localhost:8080/",
     "height": 269
    },
    "colab_type": "code",
    "id": "vtJzGb5Du7eP",
    "outputId": "78d88e31-a8bd-4177-8cc9-473b146866ca"
   },
   "outputs": [
    {
     "data": {
      "image/png": "[encoded data removed]",
      "text/plain": [
       "<Figure size 288x288 with 1 Axes>"
      ]
     },
     "metadata": {
      "needs_background": "light"
     },
     "output_type": "display_data"
    }
   ],
   "source": [
    "plot_matrix(n_djikstra_graph)"
   ]
  },
  {
   "cell_type": "code",
   "execution_count": null,
   "metadata": {
    "colab": {},
    "colab_type": "code",
    "id": "E5h51a-Nu-Ey"
   },
   "outputs": [],
   "source": []
  },
  {
   "cell_type": "markdown",
   "metadata": {
    "colab_type": "text",
    "id": "gYYywjURyKrg"
   },
   "source": [
    "## Análise"
   ]
  },
  {
   "cell_type": "markdown",
   "metadata": {
    "colab_type": "text",
    "id": "9NBJVrSKyzMY"
   },
   "source": [
    "### Execução"
   ]
  },
  {
   "cell_type": "code",
   "execution_count": 60,
   "metadata": {
    "colab": {
     "base_uri": "https://localhost:8080/",
     "height": 272
    },
    "colab_type": "code",
    "id": "q0uhksy6yMv9",
    "outputId": "b0a1002f-5ce0-4daa-bd93-f93bbc645604"
   },
   "outputs": [
    {
     "data": {
      "text/plain": [
       "\"\\nimport random\\nimport time\\nfrom datetime import datetime\\nimport numpy as np\\nimport math\\n\\n# estrutura dos dados\\nsize_time_data = list()\\ncols = ['size', 'floyd_time', 'djikstra_time']\\n\\n# semente aleatoria\\nnp.random.seed(42)\\n\\n# menor valor numero de vertices\\nN = 1\\n# maior valor numero de vertices\\nM = 200\\n\\nfor i in range(N, M):\\n    \\n    # gera um grafo de n vertices\\n    #graph = np.random.randint(pow(2,i), size=(pow(2,i), pow(2,i)))\\n    graph = np.random.randint(i*5, size=(i*5, i*5))\\n\\n    # atribui a diagonal, valores iguais a 0\\n    np.fill_diagonal(graph, 0)\\n\\n    # floyd\\n    start_floyd = time.time()\\n    floyd_warshall(graph)\\n    end_floyd = time.time()\\n\\n    delta_time_floyd = end_floyd - start_floyd\\n\\n    # djikstra\\n    start_djikstra = time.time()\\n    n_djikstra(graph)\\n    end_djikstra = time.time()\\n\\n    delta_time_djikstra = end_djikstra - start_djikstra\\n\\n    size_time_data.append([i*5, delta_time_floyd, delta_time_djikstra])\\n\\n    print('IT: ' + str(i) + ' : ' + str([i*5, delta_time_floyd, delta_time_djikstra]))\\n\""
      ]
     },
     "execution_count": 60,
     "metadata": {},
     "output_type": "execute_result"
    }
   ],
   "source": [
    "\"\"\"\n",
    "import random\n",
    "import time\n",
    "from datetime import datetime\n",
    "import numpy as np\n",
    "import math\n",
    "\n",
    "# estrutura dos dados\n",
    "size_time_data = list()\n",
    "cols = ['size', 'floyd_time', 'djikstra_time']\n",
    "\n",
    "# semente aleatoria\n",
    "np.random.seed(42)\n",
    "\n",
    "# menor valor numero de vertices\n",
    "N = 1\n",
    "# maior valor numero de vertices\n",
    "M = 200\n",
    "\n",
    "for i in range(N, M):\n",
    "    \n",
    "    # gera um grafo de n vertices\n",
    "    #graph = np.random.randint(pow(2,i), size=(pow(2,i), pow(2,i)))\n",
    "    graph = np.random.randint(i*5, size=(i*5, i*5))\n",
    "\n",
    "    # atribui a diagonal, valores iguais a 0\n",
    "    np.fill_diagonal(graph, 0)\n",
    "\n",
    "    # floyd\n",
    "    start_floyd = time.time()\n",
    "    floyd_warshall(graph)\n",
    "    end_floyd = time.time()\n",
    "\n",
    "    delta_time_floyd = end_floyd - start_floyd\n",
    "\n",
    "    # djikstra\n",
    "    start_djikstra = time.time()\n",
    "    n_djikstra(graph)\n",
    "    end_djikstra = time.time()\n",
    "\n",
    "    delta_time_djikstra = end_djikstra - start_djikstra\n",
    "\n",
    "    size_time_data.append([i*5, delta_time_floyd, delta_time_djikstra])\n",
    "\n",
    "    print('IT: ' + str(i) + ' : ' + str([i*5, delta_time_floyd, delta_time_djikstra]))\n",
    "\"\"\"    "
   ]
  },
  {
   "cell_type": "code",
   "execution_count": 61,
   "metadata": {
    "colab": {},
    "colab_type": "code",
    "id": "JLhUq-4e9YJt"
   },
   "outputs": [],
   "source": [
    "#df_fl_dj.to_csv('time_execution_['+str(N)+' - '+str(M)+']_'+str(datetime.now())+'.csv')\n",
    "#df_fl_dj.to_html('time_execution_['+str(N)+' - '+str(M)+']_'+str(datetime.now())+'.html')"
   ]
  },
  {
   "cell_type": "markdown",
   "metadata": {
    "colab_type": "text",
    "id": "7NzhEND4zqKj"
   },
   "source": [
    "### Exibição dos dados"
   ]
  },
  {
   "cell_type": "code",
   "execution_count": 62,
   "metadata": {
    "colab": {},
    "colab_type": "code",
    "id": "TVbYR-BW5X3T"
   },
   "outputs": [],
   "source": [
    "import pandas as pd"
   ]
  },
  {
   "cell_type": "code",
   "execution_count": 63,
   "metadata": {
    "colab": {},
    "colab_type": "code",
    "id": "gZQKycQd0Vh8"
   },
   "outputs": [],
   "source": [
    "df = pd.read_csv('time_execution_[1 - 1000].csv', index_col=0)\n",
    "#df = pd.read_csv('time_execution_[1 - 101]_2020-09-08 03:38:03.762825.csv')"
   ]
  },
  {
   "cell_type": "code",
   "execution_count": 31,
   "metadata": {
    "colab": {},
    "colab_type": "code",
    "id": "jTUANDL0_qc5"
   },
   "outputs": [],
   "source": [
    "#df.to_html('time_execution_[1 - 1000].html')"
   ]
  },
  {
   "cell_type": "code",
   "execution_count": 64,
   "metadata": {},
   "outputs": [
    {
     "data": {
      "text/html": [
       "<div>\n",
       "<style scoped>\n",
       "    .dataframe tbody tr th:only-of-type {\n",
       "        vertical-align: middle;\n",
       "    }\n",
       "\n",
       "    .dataframe tbody tr th {\n",
       "        vertical-align: top;\n",
       "    }\n",
       "\n",
       "    .dataframe thead th {\n",
       "        text-align: right;\n",
       "    }\n",
       "</style>\n",
       "<table border=\"1\" class=\"dataframe\">\n",
       "  <thead>\n",
       "    <tr style=\"text-align: right;\">\n",
       "      <th></th>\n",
       "      <th>size</th>\n",
       "      <th>floyd_time</th>\n",
       "      <th>djikstra_time</th>\n",
       "    </tr>\n",
       "  </thead>\n",
       "  <tbody>\n",
       "    <tr>\n",
       "      <th>23</th>\n",
       "      <td>120</td>\n",
       "      <td>2.515331</td>\n",
       "      <td>1.581718</td>\n",
       "    </tr>\n",
       "    <tr>\n",
       "      <th>37</th>\n",
       "      <td>190</td>\n",
       "      <td>10.068880</td>\n",
       "      <td>6.118031</td>\n",
       "    </tr>\n",
       "    <tr>\n",
       "      <th>48</th>\n",
       "      <td>245</td>\n",
       "      <td>21.341610</td>\n",
       "      <td>13.633364</td>\n",
       "    </tr>\n",
       "    <tr>\n",
       "      <th>64</th>\n",
       "      <td>325</td>\n",
       "      <td>51.000494</td>\n",
       "      <td>30.907496</td>\n",
       "    </tr>\n",
       "    <tr>\n",
       "      <th>92</th>\n",
       "      <td>465</td>\n",
       "      <td>146.129330</td>\n",
       "      <td>86.372986</td>\n",
       "    </tr>\n",
       "    <tr>\n",
       "      <th>171</th>\n",
       "      <td>855</td>\n",
       "      <td>869.448126</td>\n",
       "      <td>534.896844</td>\n",
       "    </tr>\n",
       "    <tr>\n",
       "      <th>178</th>\n",
       "      <td>890</td>\n",
       "      <td>985.199592</td>\n",
       "      <td>612.827744</td>\n",
       "    </tr>\n",
       "  </tbody>\n",
       "</table>\n",
       "</div>"
      ],
      "text/plain": [
       "     size  floyd_time  djikstra_time\n",
       "23    120    2.515331       1.581718\n",
       "37    190   10.068880       6.118031\n",
       "48    245   21.341610      13.633364\n",
       "64    325   51.000494      30.907496\n",
       "92    465  146.129330      86.372986\n",
       "171   855  869.448126     534.896844\n",
       "178   890  985.199592     612.827744"
      ]
     },
     "execution_count": 64,
     "metadata": {},
     "output_type": "execute_result"
    }
   ],
   "source": [
    "df.sample(7).sort_values(by='size')"
   ]
  },
  {
   "cell_type": "code",
   "execution_count": 65,
   "metadata": {
    "colab": {},
    "colab_type": "code",
    "id": "c2ORXLAf0mjM"
   },
   "outputs": [],
   "source": [
    "df_fl_dj = df"
   ]
  },
  {
   "cell_type": "code",
   "execution_count": 67,
   "metadata": {
    "colab": {
     "base_uri": "https://localhost:8080/",
     "height": 475
    },
    "colab_type": "code",
    "id": "RrF42e0XzSoL",
    "outputId": "93c47218-ab95-47a9-8134-dcc23f69a199"
   },
   "outputs": [
    {
     "data": {
      "image/png": "[encoded data removed]",
      "text/plain": [
       "<Figure size 1152x504 with 1 Axes>"
      ]
     },
     "metadata": {
      "needs_background": "light"
     },
     "output_type": "display_data"
    }
   ],
   "source": [
    "import matplotlib.pyplot as plt\n",
    "from math import log\n",
    "import numpy as np\n",
    "\n",
    "plt.figure(figsize=(16,7))\n",
    "\n",
    "plt.title('Comparação de tempo de execução dos algorimos')\n",
    "\n",
    "plt.plot(df_fl_dj['size'], df_fl_dj['floyd_time'], \n",
    "        color='green', linestyle='solid')\n",
    "\n",
    "plt.plot(df_fl_dj['size'], df_fl_dj['djikstra_time'], \n",
    "        color='blue', linestyle='solid')\n",
    "\n",
    "\n",
    "plt.xlabel('Tamanho (número de vértices)')\n",
    "#plt.xlabel('Tamanho (número de vértices) $2^{n}$')\n",
    "plt.ylabel('Tempo (segundos)')\n",
    "\n",
    "plt.legend(['Floyd Warshall', 'n-Djikstra'])\n",
    "\n",
    "plt.savefig('fld-dkt-t(n)-1-1000.png')"
   ]
  },
  {
   "cell_type": "markdown",
   "metadata": {
    "colab_type": "text",
    "id": "gIjn7WriFtG6"
   },
   "source": []
  },
  {
   "cell_type": "code",
   "execution_count": 86,
   "metadata": {
    "colab": {
     "base_uri": "https://localhost:8080/",
     "height": 475
    },
    "colab_type": "code",
    "id": "r8SOGjYVFgsc",
    "outputId": "b1af3901-4ec1-437e-d154-a7f7c07c4e73"
   },
   "outputs": [
    {
     "data": {
      "image/png": "[encoded data removed]",
      "text/plain": [
       "<Figure size 1152x504 with 2 Axes>"
      ]
     },
     "metadata": {
      "needs_background": "light"
     },
     "output_type": "display_data"
    }
   ],
   "source": [
    "from sklearn.linear_model import LinearRegression\n",
    "import matplotlib.pyplot as plt\n",
    "from math import log\n",
    "import numpy as np\n",
    "\n",
    "lx = np.log2(df_fl_dj['size'])\n",
    "lyd = np.log2(df_fl_dj['djikstra_time'])\n",
    "lyf = np.log2(df_fl_dj['floyd_time'])\n",
    "\n",
    "f_model = LinearRegression().fit(lx.values.reshape(-1,1), lyf.values)\n",
    "d_model = LinearRegression().fit(lx.values.reshape(-1,1), lyd.values)\n",
    "\n",
    "plt.figure(figsize=(16,7))\n",
    "\n",
    "plt.subplot(121)\n",
    "\n",
    "plt.title('Análise da inclinação da Reta (Floyd Warshall)')\n",
    "plt.plot(lx, lyf, color='green', linestyle='solid')\n",
    "plt.plot(lx, f_model.intercept_ + model.coef_ * lx, color='red', linestyle='dashed')\n",
    "\n",
    "plt.xlabel('$log(n)$')\n",
    "plt.ylabel('$log(T(n))$')\n",
    "\n",
    "plt.legend(['Floyd Warshall', 'Reta de melhor ajuste'])\n",
    "\n",
    "###\n",
    "\n",
    "plt.subplot(122)\n",
    "\n",
    "plt.title('Análise da inclinação da Reta (n-Djikstra)')\n",
    "plt.plot(lx, lyd, color='blue', linestyle='solid')\n",
    "plt.plot(lx, model.intercept_ + model.coef_ * lx, color='red', linestyle='dashed')\n",
    "\n",
    "plt.xlabel('$log(n)$')\n",
    "plt.ylabel('$log(T(n))$')\n",
    "\n",
    "plt.legend(['n-Djikstra', 'Reta de melhor ajuste'])\n",
    "\n",
    "plt.savefig('fld-dkt-slope-1-1000.png')"
   ]
  },
  {
   "cell_type": "code",
   "execution_count": 18,
   "metadata": {
    "colab": {
     "base_uri": "https://localhost:8080/",
     "height": 34
    },
    "colab_type": "code",
    "id": "PJEy_u2aF2nq",
    "outputId": "e767b1af-f1e5-419a-c2d7-4259b9396c93"
   },
   "outputs": [
    {
     "name": "stdout",
     "output_type": "stream",
     "text": [
      "[2.89823618]\n"
     ]
    }
   ],
   "source": [
    "from sklearn.linear_model import LinearRegression\n",
    "import numpy as np\n",
    "\n",
    "lx = np.log2(df_fl_dj['size'])\n",
    "ly = np.log2(df_fl_dj['djikstra_time'])\n",
    "\n",
    "model = LinearRegression().fit(lx.values.reshape(-1,1), ly.values)\n",
    "print(model.coef_)"
   ]
  },
  {
   "cell_type": "code",
   "execution_count": 19,
   "metadata": {
    "colab": {},
    "colab_type": "code",
    "id": "C0x-trnDGVq0"
   },
   "outputs": [
    {
     "name": "stdout",
     "output_type": "stream",
     "text": [
      "2.886697055520229\n",
      "2.909775304457411\n"
     ]
    }
   ],
   "source": [
    "import statsmodels.api as sm\n",
    "\n",
    "lx = sm.add_constant(lx)\n",
    "res = sm.OLS(ly, lx).fit()\n",
    "print(res.conf_int(0.05)[0][1])\n",
    "print(res.conf_int(0.05)[1][1])"
   ]
  },
  {
   "cell_type": "code",
   "execution_count": null,
   "metadata": {},
   "outputs": [],
   "source": []
  }
 ],
 "metadata": {
  "colab": {
   "collapsed_sections": [],
   "name": "Submissão 2 [Floyd x Dijkstra] (Avaliação Teórica)",
   "provenance": []
  },
  "kernelspec": {
   "display_name": "Python 3",
   "language": "python",
   "name": "python3"
  },
  "language_info": {
   "codemirror_mode": {
    "name": "ipython",
    "version": 3
   },
   "file_extension": ".py",
   "mimetype": "text/x-python",
   "name": "python",
   "nbconvert_exporter": "python",
   "pygments_lexer": "ipython3",
   "version": "3.8.3"
  }
 },
 "nbformat": 4,
 "nbformat_minor": 1
}
